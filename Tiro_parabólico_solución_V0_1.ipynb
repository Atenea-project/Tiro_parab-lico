{
 "cells": [
  {
   "cell_type": "markdown",
   "metadata": {
    "id": "V5kXv8yWJKHc"
   },
   "source": [
    "<!--NOTEBOOK_HEADER-->\n",
    "Este cuadernillo fue desarrollado por\n",
    "\n",
    "**A. Natahel C. C.**\n",
    "\n",
    "con el apoyo de la \n",
    "\n",
    "**Dra. Elizabeth Hernández Marín**\n",
    "\n",
    "Para la **Facultad de Química** de la **Universidad Nacional Autónoma de México**.\n",
    "\n",
    "El código de este cuadernillo está protegido bajo una [licencia GNU General Public License v3.0](https://opensource.org/licenses/GPL-3.0) y el texto está protegido una [licencia CC BY-SA 4.0](https://creativecommons.org/licenses/by-sa/4.0/).\n",
    "\n",
    "Puedes encontrar el repositorio en *GitHub* en: \n",
    "\n",
    "https://github.com/Atenea-project/Tiro_parabolico\n",
    "\n",
    "*Tiro_parabólico_solución_V0.1*"
   ]
  },
  {
   "cell_type": "markdown",
   "metadata": {
    "id": "g0SfZyCMJKHj"
   },
   "source": [
    "# Práctica 0, Tiro parabólico."
   ]
  },
  {
   "cell_type": "markdown",
   "metadata": {
    "id": "6FhMlTpAJKHj"
   },
   "source": [
    "## I) Teoría.\n",
    "\n",
    "El tiro parabólico es un ejemplo de movimiento de un objeto que se realiza simultáneamente en dos dimensiones, por lo que para facilitar su estudio podemos descomponer dicho movimiento en los cambios generados en sus componentes X e Y.  \n",
    "\n",
    "Una característica de este movimiento es que la aceleración es constante, por lo que sus componentes $a_x$ y $a_y$ también son constantes. \n",
    "\n",
    "Sabemos que $a_x=0$ si ignoramos la fricción y $a_y=cte$ que en este caso es igual a la fuerza de la gravedad. \n",
    "\n",
    "Los componentes de este movimiento en X se pueden describir con las siguientes ecuaciones.\n",
    "\n",
    "\\begin{align}\n",
    "v_x=v_{0x}\\\\\n",
    "x=x_0+v_{0x}t\n",
    "\\end{align}\n",
    "\n",
    "Los componentes de este movimiento en Y se pueden describir con las siguientes ecuaciones.\n",
    "\n",
    "\\begin{align}\n",
    "v_y=v{0y}-gt\\\\\n",
    "y=y_0+v_{0y}t-\\frac{1}{2}gt^2\n",
    "\\end{align}\n",
    "\n",
    "Si queremos describir el movimiento en términos del ángulo con el cual se realiza el tiro parabólico, las ecuaciones útiles serán\n",
    "\n",
    "\\begin{align}\n",
    "x=(v_0\\cos\\theta)t\\\\\n",
    "y=(v_0\\sin\\theta)t-\\frac{1}{2}gt^2\n",
    "\\end{align}\n",
    "\n",
    "\n",
    "## II) Código tiro parabólico.\n",
    "\n",
    "Lo primero que haremos sera importar una serie de librerías que nos serán de utilidad"
   ]
  },
  {
   "cell_type": "code",
   "execution_count": null,
   "metadata": {
    "id": "ixWFMsdRJKHk"
   },
   "outputs": [],
   "source": [
    "import matplotlib.pyplot as plt\n",
    "import numpy as np\n",
    "from ipywidgets import interact,interactive, fixed"
   ]
  },
  {
   "cell_type": "markdown",
   "metadata": {
    "id": "XO7Rg3xbJKHl"
   },
   "source": [
    "Ahora vamos a definir una función 'parabólico' que en función de la velocidad inicial 'v0', el ángulo de lanzamiento 'T' y la gravedad 'g'describa la trayectoria a lo largo del eje X e Y, nos conviene usar las siguientes ecuaciones.\n",
    "\n",
    "\\begin{align}\n",
    "x=(v_0\\cos\\theta)t\\\\\n",
    "y=(v_0\\sin\\theta)t-\\frac{1}{2}gt^2\n",
    "\\end{align}\n",
    "\n",
    "Dado que esta función matemática también depende del tiempo, tendremos que crear un espacio lineal de valores asociados al tiempo del experimento.\n",
    "\n",
    "Las funciones de python que nos podrán ser de utilidad son:\n",
    "\n",
    "    - np.linspace(x,y,z), que genera el espacio lineal desde el valor 'x' hasta 'y' de 'z' elementos en 'z' elementos.\n",
    "    - np.cos(x), que nos da el valor del coseno de 'x'\n",
    "    - np.sin(x), que nos da le valor del seno de 'x'\n",
    "    *NOTA. np.cos(x) y np.sin(x) toman a 'x' como un valor en radianes.\n",
    "    - plt.xlabel('i'), pone la etiqueta 'i' en el eje X\n",
    "    - plt.ylabel('i'), pone la etiqueta 'i' en el eje Y\n",
    "    - plt.axis([w,x,y,z]), establece el eje X de 'w' a 'x' y el eje Y de 'y' a 'z' \n",
    "    - plt.plot(x,y), genera una gráfica de 'x' con respecto a 'y'\n",
    "\n",
    "Puedes poner en X la etiqueta 'Distancia' y en Y la etiqueta 'Altura'.\n",
    "\n",
    "Los ejes pueden ser [0,85,0,22]\n",
    "\n",
    "Recuerda que las funciones 'np.cos' y 'np.sin' toman parámetros en radianes, por lo que hay que convertir los grados de 'T' a radianes\n",
    "\n",
    "\\begin{equation}\n",
    "rad =\\frac{T\\cdot \\pi}{180}\n",
    "\\end{equation}"
   ]
  },
  {
   "cell_type": "code",
   "execution_count": null,
   "metadata": {
    "id": "J1JYYV-yJKHm"
   },
   "outputs": [],
   "source": [
    "def parabolico(v0,T,g):\n",
    "    t=np.linspace(0,10,200)\n",
    "    x=v0*np.cos((T*np.pi)/180)*t\n",
    "    y=v0*np.sin((T*np.pi)/180)*t+0.5*g*(t**2)\n",
    "    plt.xlabel('Distancia')\n",
    "    plt.ylabel('Altura')\n",
    "    plt.axis([0,85,0,22])\n",
    "    return(plt.plot(x,y))"
   ]
  },
  {
   "cell_type": "markdown",
   "metadata": {
    "id": "-SHvWa0IJKHn"
   },
   "source": [
    "Generamos una gráfica interactiva con la función 'pos'\n",
    "\n",
    "    - interact(w,x=(a,b),...,z=(s,d)), genera una gráfica interactiva de la función 'w' donde los parámetros de la función de 'x' varían de 'a' hasta 'b', hasta 'z' varían de 's' hasta 'd'."
   ]
  },
  {
   "cell_type": "code",
   "execution_count": null,
   "metadata": {
    "id": "wIzFtZYFJKHo"
   },
   "outputs": [],
   "source": [
    "interact(parabolico,v0=(0,20),T=(1,89),g=(-10,-5))"
   ]
  },
  {
   "cell_type": "markdown",
   "metadata": {
    "id": "iYEO5UPjJKHo"
   },
   "source": [
    "### Bibliografía.\n",
    "\n",
    "1.   Zemansky, S. Y., & Freedman, Y. Y. (2013). Física Universitaria - Volumen 01 (13.a ed.). Pearson Educación.\n",
    "2.   Giambattista, A. (2009). Fisica (1.a ed.). MCGRAW HILL EDDUCATION.\n"
   ]
  }
 ],
 "metadata": {
  "colab": {
   "collapsed_sections": [],
   "name": "Tiro_parabólico_V0.1.ipynb",
   "provenance": []
  },
  "kernelspec": {
   "display_name": "Python 3",
   "language": "python",
   "name": "python3"
  },
  "language_info": {
   "codemirror_mode": {
    "name": "ipython",
    "version": 3
   },
   "file_extension": ".py",
   "mimetype": "text/x-python",
   "name": "python",
   "nbconvert_exporter": "python",
   "pygments_lexer": "ipython3",
   "version": "3.7.7"
  }
 },
 "nbformat": 4,
 "nbformat_minor": 1
}
